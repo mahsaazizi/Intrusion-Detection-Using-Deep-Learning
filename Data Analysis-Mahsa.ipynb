{
 "cells": [
  {
   "cell_type": "markdown",
   "metadata": {},
   "source": [
    "# Import Libraries"
   ]
  },
  {
   "cell_type": "code",
   "execution_count": 1,
   "metadata": {},
   "outputs": [],
   "source": [
    "import pandas as pd\n",
    "import matplotlib.pyplot as plt\n",
    "import seaborn as sns\n",
    "import glob\n",
    "import numpy as np\n",
    "from scipy.stats import pearsonr, spearmanr \n",
    "pd.set_option('display.max_columns', None) \n",
    "pd.options.display.max_rows = 4000\n",
    "from sklearn.preprocessing import LabelEncoder\n",
    "from sklearn.ensemble import GradientBoostingClassifier\n",
    "from sklearn.model_selection import train_test_split, RandomizedSearchCV\n",
    "from pprint import pprint\n",
    "from tictoc import tic, toc"
   ]
  },
  {
   "cell_type": "markdown",
   "metadata": {},
   "source": [
    "# Read Data"
   ]
  },
  {
   "cell_type": "markdown",
   "metadata": {},
   "source": [
    "## Read all data at once and clean them"
   ]
  },
  {
   "cell_type": "code",
   "execution_count": null,
   "metadata": {
    "hide_input": true
   },
   "outputs": [],
   "source": [
    "Path = 'D:/TADA/MachineLearningCSV2018'\n",
    "Path_Cleaned = 'D:/TADA/MachineLearningCSV2018_Cleaned'\n",
    "All = pd.DataFrame()\n",
    "i = 0\n",
    "for f in glob.glob(Path +\"\\\\*.csv\"):\n",
    "    data = pd.read_csv(f, dtype='unicode')\n",
    "#     print('df Shape:', df.shape)\n",
    "#     print(df['Label'].value_counts())\n",
    "    i += 1\n",
    "#     print(data.shape)\n",
    "    data = Drop_Duplicates_EncodingLabel(data)\n",
    "#     print(data.shape)\n",
    "    data = drop_nonNumericValues(data)\n",
    "    data.to_csv(Path_Cleaned+'/CleanData'+str(i)+'.csv', index=False)\n",
    "#     print(data.shape)\n",
    "    print(100*'*')\n",
    "#     print(100*'*')"
   ]
  },
  {
   "cell_type": "markdown",
   "metadata": {},
   "source": [
    "## Read each data file separately "
   ]
  },
  {
   "cell_type": "code",
   "execution_count": 3,
   "metadata": {
    "hide_input": true,
    "scrolled": true
   },
   "outputs": [],
   "source": [
    "Path = 'D:/TADA/MachineLearningCSV2018'\n",
    "Bot = pd.read_csv(Path+'/Friday-02-03-2018_TrafficForML_CICFlowMeter.csv', dtype='unicode')\n",
    "# # Dos = pd.read_csv(Path+'/Friday-16-02-2018_TrafficForML_CICFlowMeter.csv', dtype='unicode')\n",
    "# # SQL_Injection1 = pd.read_csv(Path+'/Friday-23-02-2018_TrafficForML_CICFlowMeter.csv', dtype='unicode')\n",
    "# DDoS = pd.read_csv(Path+'/Thuesday-20-02-2018_TrafficForML_CICFlowMeter.csv', dtype='unicode')\n",
    "# # Infilteration1 = pd.read_csv(Path+'/Thursday-01-03-2018_TrafficForML_CICFlowMeter.csv', dtype='unicode')\n",
    "# # Dos2 = pd.read_csv(Path+'/Thursday-15-02-2018_TrafficForML_CICFlowMeter.csv', dtype='unicode')\n",
    "# # SQL_Injection2 = pd.read_csv(Path+'/Thursday-22-02-2018_TrafficForML_CICFlowMeter.csv', dtype='unicode')\n",
    "# # BruteForce = pd.read_csv(Path+'/Wednesday-14-02-2018_TrafficForML_CICFlowMeter.csv', dtype='unicode')\n",
    "# # DDos2 = pd.read_csv(Path+'/Wednesday-21-02-2018_TrafficForML_CICFlowMeter.csv', dtype='unicode')\n",
    "# # Infilteration2 = pd.read_csv(Path+'/Wednesday-28-02-2018_TrafficForML_CICFlowMeter.csv', dtype='unicode')\n",
    "\n",
    "# # # Concat Similar Data\n",
    "# # SQL_Injection = pd.concat([SQL_Injection1, SQL_Injection2])\n",
    "# # Infilteration = pd.concat([Infilteration1, Infilteration2])"
   ]
  },
  {
   "cell_type": "markdown",
   "metadata": {},
   "source": [
    "# Data Cleaning"
   ]
  },
  {
   "cell_type": "code",
   "execution_count": 3,
   "metadata": {
    "hide_input": true
   },
   "outputs": [],
   "source": [
    "le=LabelEncoder()\n",
    "def Drop_Duplicates_EncodingLabel(data):\n",
    "    data.drop('Timestamp', axis=1, inplace=True)\n",
    "    data.drop_duplicates(inplace=True)\n",
    "    data['Label']=le.fit_transform(data['Label'])\n",
    "    return data\n",
    "\n",
    "\n",
    "def drop_nonNumericValues(data):\n",
    "    '''Remove non-numeric rows'''\n",
    "    Infilteration_permanent = pd.DataFrame(columns= data.columns)\n",
    "    for i in data.columns:\n",
    "        Infilteration_temp=data[data[i].apply(lambda x: not str(x).replace('.','').replace('-','').isnumeric())]\n",
    "        Infilteration_permanent = Infilteration_permanent.append(Infilteration_temp)\n",
    "        Infilteration_permanent.drop_duplicates(inplace=True)\n",
    "    data_Clean = pd.concat([data, Infilteration_permanent]).drop_duplicates(keep=False)\n",
    "    data_Clean = data_Clean.apply(pd.to_numeric)\n",
    "    return data_Clean"
   ]
  },
  {
   "cell_type": "code",
   "execution_count": 18,
   "metadata": {
    "collapsed": true,
    "hide_input": true
   },
   "outputs": [
    {
     "name": "stdout",
     "output_type": "stream",
     "text": [
      "(1048575, 80)\n",
      "(823732, 79)\n",
      "(682647, 79)\n",
      "****************************************************************************************************\n",
      "(1048575, 80)\n",
      "(591902, 79)\n",
      "(591901, 79)\n",
      "****************************************************************************************************\n",
      "(2097150, 80)\n",
      "(1764880, 79)\n",
      "(1754290, 79)\n",
      "****************************************************************************************************\n",
      "(944229, 80)\n",
      "(791170, 79)\n",
      "(783917, 79)\n",
      "****************************************************************************************************\n",
      "(1048575, 80)\n",
      "(884658, 79)\n",
      "(876946, 79)\n",
      "****************************************************************************************************\n",
      "(1048575, 80)\n",
      "(674815, 79)\n",
      "(671136, 79)\n",
      "****************************************************************************************************\n",
      "(1048575, 80)\n",
      "(561405, 79)\n",
      "(561405, 79)\n",
      "****************************************************************************************************\n"
     ]
    }
   ],
   "source": [
    "Path_Cleaned = 'D:/TADA/MachineLearningCSV2018_Cleaned'\n",
    "i = 0\n",
    "for data in [Bot, Dos, SQL_Injection, Infilteration, Dos2, BruteForce, DDos2]:\n",
    "    i += 1\n",
    "    print(data.shape)\n",
    "    data = Drop_Duplicates_EncodingLabel(data)\n",
    "    print(data.shape)\n",
    "    data = drop_nonNumericValues(data)\n",
    "    data.to_csv(Path_Cleaned+'/CleanData_'+str(i)+'.csv', index=False)\n",
    "    print(data.shape)\n",
    "    print(100*'*')"
   ]
  },
  {
   "cell_type": "code",
   "execution_count": 15,
   "metadata": {
    "collapsed": true,
    "hide_input": true
   },
   "outputs": [
    {
     "name": "stdout",
     "output_type": "stream",
     "text": [
      "(7944778, 83)\n",
      "(7944778, 80)\n",
      "(6363390, 80)\n",
      "****************************************************************************************************\n"
     ]
    }
   ],
   "source": [
    "#DDoS has different columns so we should clean this data separately\n",
    "\n",
    "Path_Cleaned = 'D:/TADA/MachineLearningCSV2018_Cleaned'\n",
    "i = 0\n",
    "for data in [DDoS]:\n",
    "    i += 1\n",
    "    print(data.shape)\n",
    "    data.drop(['Flow ID','Src IP', 'Dst IP'], axis=1, inplace=True)\n",
    "    data = Drop_Duplicates_EncodingLabel(data)\n",
    "    print(data.shape)\n",
    "    data = drop_nonNumericValues(data)\n",
    "    data.to_csv(Path_Cleaned+'/CleanData_DDoS.csv', index=False)\n",
    "    print(data.shape)\n",
    "    print(100*'*')"
   ]
  },
  {
   "cell_type": "markdown",
   "metadata": {},
   "source": [
    "# Plot Spearman Correlation"
   ]
  },
  {
   "cell_type": "code",
   "execution_count": 51,
   "metadata": {},
   "outputs": [],
   "source": [
    "def correlation(corrtype, Data, title, Datacolumns,threshold):\n",
    "\n",
    "    df_corr = pd.DataFrame()\n",
    "    data = Data[Datacolumns].copy()  # Copy the data with the specified columns in a new dataframe\n",
    "    data = data.replace('nan', np.nan)  # replace all null values with np.nan to make it understandable by python\n",
    "    data.dropna(inplace=True, axis=0)  # update the dataframe and drop or remove all the null values wich are converted to np.nan. \n",
    "                                       # axis=0 means drop all the rows which have missing values. axis=1 means drop the columns which have missing values.\n",
    "    data = data.apply(pd.to_numeric)  # convert all the values to number\n",
    "    \n",
    "    # for each pair of features in the data find the correlation score\n",
    "    for x in data.columns:\n",
    "        for y in data.columns:\n",
    "            corr = corrtype(data[x], data[y])  # For example, pearsonr(data['cellvoltage'], data['Power']) returns two values in an array. \n",
    "                                               # For example the output of this function can be(0.9, 0.04), which the first value is the correlation score than the second value is the p-value.\n",
    "            if corr[1] <= pd.to_numeric(threshold): # save the correlation scores if the p-value is significant (based on the threshold)\n",
    "                df_corr.loc[x,y] = corr[0]\n",
    "            else: \n",
    "                df_corr.loc[x,y] = np.nan\n",
    "\n",
    "    print(df_corr.shape)\n",
    "    df_corr.dropna(how='all', axis= (0,1), inplace=True)\n",
    "    print(df_corr.shape)\n",
    "    mask = np.zeros_like(df_corr, dtype=np.bool) # put a mask on the scores that the p-value for them was not sgnificant. In this case, we filter out the scores based the p-value\n",
    "    mask[np.triu_indices_from(mask)] = True # the original heatmap is an square which is symmetric across its diagonal. We remove the triangle above the diagonal by putting a mask on it.\n",
    "    sns.set(font_scale=.5) #Scale down all the text in the figure\n",
    "    g = sns.heatmap(df_corr, mask=mask, xticklabels=True, yticklabels=True, annot=True, fmt='.1f', cmap='RdBu_r', vmin=-1, vmax=1, linewidths=0.1, annot_kws={\"size\": 2})\n",
    "    g.set_facecolor('white') # Set background color of the figure\n",
    "    plt.title(title)\n",
    "    plt.xticks(fontsize=3)\n",
    "    plt.yticks(fontsize=3)\n",
    "    plt.savefig('D:\\Github\\Intrusion Detection (TADA)\\Figures\\\\'+title+'.png', format='png', dpi=1200, bbox_inches='tight')\n",
    "#     plt.show()\n",
    "\n",
    "\n",
    "\n",
    "# Specify all the input features\n",
    "X = list(Infilteration_Clean_Numeric)\n",
    "# Specify the output feature, can have more than one output feature here\n",
    "# Y = list(NewBot)\n",
    "correlation(spearmanr, Infilteration_Clean_Numeric, 'SpearmanCorrelation(Infilteration)2', X, 0.05)"
   ]
  },
  {
   "cell_type": "code",
   "execution_count": 5,
   "metadata": {},
   "outputs": [],
   "source": [
    "Path_Cleaned = 'D:/TADA/MachineLearningCSV2018_Cleaned'\n",
    "Infilteration_Clean= pd.read_csv(Path_Cleaned+'/CleanData_Infilteration.csv')"
   ]
  },
  {
   "cell_type": "code",
   "execution_count": 34,
   "metadata": {},
   "outputs": [
    {
     "name": "stderr",
     "output_type": "stream",
     "text": [
      "C:\\Users\\Mahsa\\AppData\\Roaming\\Python\\Python36\\site-packages\\numpy\\lib\\function_base.py:2559: RuntimeWarning: invalid value encountered in true_divide\n",
      "  c /= stddev[:, None]\n",
      "C:\\Users\\Mahsa\\AppData\\Roaming\\Python\\Python36\\site-packages\\numpy\\lib\\function_base.py:2560: RuntimeWarning: invalid value encountered in true_divide\n",
      "  c /= stddev[None, :]\n"
     ]
    },
    {
     "name": "stdout",
     "output_type": "stream",
     "text": [
      "30 selected features\n"
     ]
    }
   ],
   "source": [
    "Y = Infilteration_Clean['Label']\n",
    "X = Infilteration_Clean.drop('Label',axis=1)\n",
    "\n",
    "def cor_selector(X, y,num_feats):\n",
    "    cor_list = []\n",
    "    feature_name = X.columns.tolist()\n",
    "\n",
    "    # calculate the correlation with y for each feature\n",
    "    for i in list(X):\n",
    "        cor = spearmanr(X[i], y)[0]\n",
    "        cor_list.append(cor)\n",
    "    # replace NaN with 0\n",
    "    cor_list = [0 if np.isnan(i) else i for i in cor_list]\n",
    "    # feature name\n",
    "    cor_feature = X.iloc[:,np.argsort(np.abs(cor_list))[-num_feats:]].columns.tolist()\n",
    "    # feature selection? 0 for not select, 1 for select\n",
    "    cor_support = [True if i in cor_feature else False for i in feature_name]\n",
    "    return cor_support, cor_feature\n",
    "cor_support, cor_feature = cor_selector( X, Y,30)\n",
    "print(str(len(cor_feature)), 'selected features')"
   ]
  },
  {
   "cell_type": "code",
   "execution_count": 35,
   "metadata": {
    "collapsed": true
   },
   "outputs": [
    {
     "data": {
      "text/plain": [
       "['Bwd Seg Size Avg',\n",
       " 'Bwd Pkt Len Mean',\n",
       " 'Fwd IAT Std',\n",
       " 'Fwd Pkt Len Std',\n",
       " 'Flow IAT Mean',\n",
       " 'Flow IAT Std',\n",
       " 'Bwd Pkt Len Max',\n",
       " 'Fwd Pkts/s',\n",
       " 'Flow Pkts/s',\n",
       " 'TotLen Bwd Pkts',\n",
       " 'Subflow Bwd Byts',\n",
       " 'Fwd Act Data Pkts',\n",
       " 'Flow Duration',\n",
       " 'Flow IAT Max',\n",
       " 'Fwd IAT Mean',\n",
       " 'Fwd Seg Size Min',\n",
       " 'Pkt Size Avg',\n",
       " 'Fwd IAT Tot',\n",
       " 'Tot Fwd Pkts',\n",
       " 'Subflow Fwd Pkts',\n",
       " 'Fwd IAT Max',\n",
       " 'Pkt Len Std',\n",
       " 'Pkt Len Var',\n",
       " 'Pkt Len Max',\n",
       " 'Pkt Len Mean',\n",
       " 'Fwd Pkt Len Max',\n",
       " 'Fwd Pkt Len Mean',\n",
       " 'Fwd Seg Size Avg',\n",
       " 'TotLen Fwd Pkts',\n",
       " 'Subflow Fwd Byts']"
      ]
     },
     "execution_count": 35,
     "metadata": {},
     "output_type": "execute_result"
    }
   ],
   "source": [
    "cor_feature"
   ]
  },
  {
   "cell_type": "markdown",
   "metadata": {},
   "source": [
    "# Create ML models"
   ]
  },
  {
   "cell_type": "code",
   "execution_count": 6,
   "metadata": {},
   "outputs": [],
   "source": [
    "Data = Infilteration_Clean\n",
    "\n",
    "X = Data.drop('Label',axis=1)\n",
    "Y = Data['Label']\n",
    "\n",
    "X_train, X_test, y_train, y_test = train_test_split(X, Y, test_size=0.2, random_state=8)"
   ]
  },
  {
   "cell_type": "markdown",
   "metadata": {},
   "source": [
    "## Randomized Search Cross Validation"
   ]
  },
  {
   "cell_type": "markdown",
   "metadata": {},
   "source": [
    "The difference between RandomizedSearchCV and GridSearchCV is that, in GridSearchCV all the given parameters are tried to create a model, but in the RandomizedSearchCV not all parameters are tried out, but rather only a fixed number of parameter sets is sampled and tried out. The number of parameters sets that are tried is given by `n_iter`. "
   ]
  },
  {
   "cell_type": "code",
   "execution_count": 7,
   "metadata": {},
   "outputs": [
    {
     "name": "stdout",
     "output_type": "stream",
     "text": [
      "{'learning_rate': [0.1, 0.01, 0.001],\n",
      " 'max_depth': [10, 20, 30, 40, 50],\n",
      " 'max_features': ['sqrt', 'log2', None],\n",
      " 'min_samples_leaf': [1, 2, 4],\n",
      " 'min_samples_split': [2, 5, 10],\n",
      " 'n_estimators': [200, 400, 600, 800]}\n",
      "0:00:00.001995\n"
     ]
    }
   ],
   "source": [
    "tic()\n",
    "n_estimators = [int(x) for x in np.linspace(start = 200, stop = 800, num = 4)]\n",
    "\n",
    "max_features = ['sqrt', 'log2', None]\n",
    "\n",
    "learning_rate = [0.1, 0.01, 0.001]\n",
    "\n",
    "max_depth = [int(x) for x in np.linspace(10, 50, num = 5)]\n",
    "# max_depth.append(None)\n",
    "\n",
    "min_samples_split = [2, 5, 10]\n",
    "\n",
    "min_samples_leaf = [1, 2, 4]\n",
    "\n",
    "# bootstrap = [True, False]\n",
    "\n",
    "# Create the random grid\n",
    "random_grid = {'n_estimators': n_estimators, 'max_features': max_features, 'max_depth': max_depth,\n",
    "               'min_samples_split': min_samples_split, 'min_samples_leaf': min_samples_leaf, \n",
    "               'learning_rate': learning_rate}\n",
    "\n",
    "pprint(random_grid)\n",
    "toc() "
   ]
  },
  {
   "cell_type": "code",
   "execution_count": null,
   "metadata": {},
   "outputs": [
    {
     "name": "stdout",
     "output_type": "stream",
     "text": [
      "Fitting 3 folds for each of 2 candidates, totalling 6 fits\n"
     ]
    },
    {
     "name": "stderr",
     "output_type": "stream",
     "text": [
      "[Parallel(n_jobs=-1)]: Using backend LokyBackend with 4 concurrent workers.\n"
     ]
    }
   ],
   "source": [
    "tic()\n",
    "# First create the base model to tune\n",
    "# rfc = RandomForestClassifier(random_state=8)\n",
    "bgc = GradientBoostingClassifier(random_state=8)\n",
    "\n",
    "# Definition of the random search\n",
    "random_search = RandomizedSearchCV(estimator=bgc,\n",
    "                                   param_distributions=random_grid,\n",
    "                                   n_iter=2,\n",
    "                                   scoring='accuracy',\n",
    "                                   cv=3, \n",
    "                                   verbose=1, \n",
    "                                   random_state=8,\n",
    "                                   n_jobs= -1)\n",
    "\n",
    "# Fit the random search model\n",
    "random_search.fit(X_train, y_train)\n",
    "toc() "
   ]
  },
  {
   "cell_type": "markdown",
   "metadata": {},
   "source": [
    "We can see the best hyperparameters resulting from the Random Search:"
   ]
  },
  {
   "cell_type": "code",
   "execution_count": null,
   "metadata": {},
   "outputs": [],
   "source": [
    "print(\"The best hyperparameters from Random Search are:\")\n",
    "print(random_search.best_params_)\n",
    "print(\"\")\n",
    "print(\"The mean accuracy of a model with these hyperparameters is:\")\n",
    "print(random_search.best_score_)"
   ]
  },
  {
   "cell_type": "markdown",
   "metadata": {},
   "source": [
    "<b>After that, we can do a more exhaustive search centered in those values:</b>"
   ]
  },
  {
   "cell_type": "markdown",
   "metadata": {},
   "source": [
    "## Grid Search Cross Validation"
   ]
  },
  {
   "cell_type": "code",
   "execution_count": null,
   "metadata": {},
   "outputs": [],
   "source": [
    "# Create the parameter grid based on the results of random search \n",
    "bootstrap = [True]\n",
    "max_depth = [None]\n",
    "max_features = ['sqrt']\n",
    "min_samples_leaf = [1, 2, 4]\n",
    "min_samples_split = [2, 5, 10]\n",
    "n_estimators = [500, 600, 700]\n",
    "\n",
    "param_grid = {\n",
    "    'bootstrap': bootstrap,\n",
    "    'max_depth': max_depth,\n",
    "    'max_features': max_features,\n",
    "    'min_samples_leaf': min_samples_leaf,\n",
    "    'min_samples_split': min_samples_split,\n",
    "    'n_estimators': n_estimators\n",
    "}\n",
    "\n",
    "# Create a base model\n",
    "rfc = RandomForestClassifier(random_state=8)\n",
    "\n",
    "# Manually create the splits in CV in order to be able to fix a random_state (GridSearchCV doesn't have that argument)\n",
    "cv_sets = ShuffleSplit(n_splits = 3, test_size = .33, random_state = 8)\n",
    "\n",
    "# Instantiate the grid search model\n",
    "grid_search = GridSearchCV(estimator=rfc, \n",
    "                           param_grid=param_grid,\n",
    "                           scoring='accuracy',\n",
    "                           cv=cv_sets,\n",
    "                           verbose=1)\n",
    "\n",
    "# Fit the grid search to the data\n",
    "grid_search.fit(features_train, labels_train)"
   ]
  },
  {
   "cell_type": "markdown",
   "metadata": {},
   "source": [
    "The best hyperparameters turn out to be:"
   ]
  },
  {
   "cell_type": "code",
   "execution_count": null,
   "metadata": {},
   "outputs": [],
   "source": [
    "print(\"The best hyperparameters from Grid Search are:\")\n",
    "print(grid_search.best_params_)\n",
    "print(\"\")\n",
    "print(\"The mean accuracy of a model with these hyperparameters is:\")\n",
    "print(grid_search.best_score_)"
   ]
  },
  {
   "cell_type": "code",
   "execution_count": null,
   "metadata": {},
   "outputs": [],
   "source": [
    "best_rfc = grid_search.best_estimator_\n",
    "best_rfc"
   ]
  },
  {
   "cell_type": "markdown",
   "metadata": {},
   "source": [
    "# Using Dask"
   ]
  },
  {
   "cell_type": "code",
   "execution_count": 3,
   "metadata": {},
   "outputs": [
    {
     "name": "stdout",
     "output_type": "stream",
     "text": [
      "Requirement already satisfied: dask[dask_ml] in c:\\programdata\\anaconda3\\lib\\site-packages (0.17.5)\n"
     ]
    },
    {
     "name": "stderr",
     "output_type": "stream",
     "text": [
      "WARNING: pip is being invoked by an old script wrapper. This will fail in a future version of pip.\n",
      "Please see https://github.com/pypa/pip/issues/5599 for advice on fixing the underlying issue.\n",
      "To avoid this problem you can invoke Python with '-m pip' instead of running pip directly.\n",
      "  WARNING: dask 0.17.5 does not provide the extra 'dask_ml'\n",
      "WARNING: You are using pip version 20.2.3; however, version 20.2.4 is available.\n",
      "You should consider upgrading via the 'C:\\ProgramData\\Anaconda3\\python.exe -m pip install --upgrade pip' command.\n"
     ]
    }
   ],
   "source": [
    "# !pip install dask\n",
    "!pip install \"dask[dask_ml]\""
   ]
  },
  {
   "cell_type": "code",
   "execution_count": null,
   "metadata": {},
   "outputs": [],
   "source": [
    "import dask_ml.joblib\n",
    "from sklearn.externals import joblibclient = Client()with joblib.parallel_backend('dask'):\n",
    "    # your scikit-learn code\n",
    "    tic()\n",
    "    # First create the base model to tune\n",
    "    bgc = GradientBoostingClassifier(random_state=8)\n",
    "\n",
    "    # Definition of the random search\n",
    "    random_search = RandomizedSearchCV(estimator=bgc,\n",
    "                                       param_distributions=random_grid,\n",
    "                                       n_iter=2,\n",
    "                                       scoring='accuracy',\n",
    "                                       cv=3, \n",
    "                                       verbose=1, \n",
    "                                       random_state=8,\n",
    "                                       n_jobs= -1)\n",
    "\n",
    "    # Fit the random search model\n",
    "    random_search.fit(X_train, y_train)\n",
    "    toc()"
   ]
  },
  {
   "cell_type": "code",
   "execution_count": null,
   "metadata": {},
   "outputs": [],
   "source": []
  },
  {
   "cell_type": "code",
   "execution_count": null,
   "metadata": {},
   "outputs": [],
   "source": []
  },
  {
   "cell_type": "code",
   "execution_count": null,
   "metadata": {},
   "outputs": [],
   "source": []
  },
  {
   "cell_type": "markdown",
   "metadata": {},
   "source": [
    "# Other Codes"
   ]
  },
  {
   "cell_type": "code",
   "execution_count": 34,
   "metadata": {
    "collapsed": true
   },
   "outputs": [
    {
     "data": {
      "image/png": "[encoded data removed]",
      "text/plain": [
       "<Figure size 792x648 with 2 Axes>"
      ]
     },
     "metadata": {},
     "output_type": "display_data"
    }
   ],
   "source": [
    "Infilteration_Clean_Numeric = Infilteration_Clean.apply(pd.to_numeric)\n",
    "# Compute the correlation matrix\n",
    "corr = Infilteration_Clean_Numeric.corr('spearman')\n",
    "# Generate a mask for the upper triangle\n",
    "mask = np.zeros_like(corr, dtype=np.bool)\n",
    "mask[np.triu_indices_from(mask)] = True\n",
    "# Set up the matplotlib figure\n",
    "f, ax = plt.subplots(figsize=(11, 9))\n",
    "# Draw the heatmap with the mask and correct aspect ratio\n",
    "sns.heatmap(corr, mask=mask, xticklabels=True, yticklabels=True, annot=True, fmt='.1f', cmap='RdBu_r', vmin=-1, vmax=1, linewidths=0.1, annot_kws={\"size\": 3})\n",
    "plt.xticks(fontsize=5)\n",
    "plt.yticks(fontsize=5)\n",
    "plt.savefig('D:\\Github\\Intrusion Detection (TADA)\\Figures\\\\SpearmanCorrelation(Infilteration).png', format='png', dpi=1200, bbox_inches='tight')\n",
    "plt.show()"
   ]
  },
  {
   "cell_type": "code",
   "execution_count": 12,
   "metadata": {},
   "outputs": [],
   "source": [
    "Infilteration_Clean = Infilteration1[~Infilteration1.index.isin(Infilteration_permanent.index)]"
   ]
  },
  {
   "cell_type": "code",
   "execution_count": 21,
   "metadata": {
    "collapsed": true
   },
   "outputs": [
    {
     "data": {
      "text/plain": [
       "Dst Port                     443\n",
       "Protocol                       6\n",
       "Flow Duration          115794439\n",
       "Tot Fwd Pkts                  21\n",
       "Tot Bwd Pkts                  20\n",
       "TotLen Fwd Pkts              805\n",
       "TotLen Bwd Pkts             6888\n",
       "Fwd Pkt Len Max              440\n",
       "Fwd Pkt Len Min                0\n",
       "Fwd Pkt Len Mean     38.33333333\n",
       "Fwd Pkt Len Std      104.4984848\n",
       "Bwd Pkt Len Max             1460\n",
       "Bwd Pkt Len Min                0\n",
       "Bwd Pkt Len Mean           344.4\n",
       "Bwd Pkt Len Std      569.7159403\n",
       "Flow Byts/s           66.4366965\n",
       "Flow Pkts/s          0.354075726\n",
       "Flow IAT Mean        2894860.975\n",
       "Flow IAT Std         4510500.947\n",
       "Flow IAT Max            10000000\n",
       "Flow IAT Min                   1\n",
       "Fwd IAT Tot            116000000\n",
       "Fwd IAT Mean          5789721.95\n",
       "Fwd IAT Std          4937773.874\n",
       "Fwd IAT Max             10000000\n",
       "Fwd IAT Min                   14\n",
       "Bwd IAT Tot            110000000\n",
       "Bwd IAT Mean         5815588.579\n",
       "Bwd IAT Std          5080280.838\n",
       "Bwd IAT Max             10000000\n",
       "Bwd IAT Min                    1\n",
       "Fwd PSH Flags                  0\n",
       "Bwd PSH Flags                  0\n",
       "Fwd URG Flags                  0\n",
       "Bwd URG Flags                  0\n",
       "Fwd Header Len               432\n",
       "Bwd Header Len               544\n",
       "Fwd Pkts/s           0.181355859\n",
       "Bwd Pkts/s           0.172719866\n",
       "Pkt Len Min                    0\n",
       "Pkt Len Max                 1460\n",
       "Pkt Len Mean         183.1666667\n",
       "Pkt Len Std          424.2448624\n",
       "Pkt Len Var          179983.7033\n",
       "FIN Flag Cnt                   0\n",
       "SYN Flag Cnt                   0\n",
       "RST Flag Cnt                   1\n",
       "PSH Flag Cnt                   1\n",
       "ACK Flag Cnt                   0\n",
       "URG Flag Cnt                   0\n",
       "CWE Flag Count                 0\n",
       "ECE Flag Cnt                   1\n",
       "Down/Up Ratio                  0\n",
       "Pkt Size Avg         187.6341463\n",
       "Fwd Seg Size Avg     38.33333333\n",
       "Bwd Seg Size Avg           344.4\n",
       "Fwd Byts/b Avg                 0\n",
       "Fwd Pkts/b Avg                 0\n",
       "Fwd Blk Rate Avg               0\n",
       "Bwd Byts/b Avg                 0\n",
       "Bwd Pkts/b Avg                 0\n",
       "Bwd Blk Rate Avg               0\n",
       "Subflow Fwd Pkts              21\n",
       "Subflow Fwd Byts             805\n",
       "Subflow Bwd Pkts              20\n",
       "Subflow Bwd Byts            6888\n",
       "Init Fwd Win Byts           8192\n",
       "Init Bwd Win Byts            980\n",
       "Fwd Act Data Pkts             15\n",
       "Fwd Seg Size Min              20\n",
       "Active Mean             39839.25\n",
       "Active Std           56124.69835\n",
       "Active Max                217750\n",
       "Active Min                 20911\n",
       "Idle Mean            9609696.167\n",
       "Idle Std             1364481.519\n",
       "Idle Max                10000000\n",
       "Idle Min                 5277192\n",
       "Label                          0\n",
       "Name: 22492, dtype: object"
      ]
     },
     "execution_count": 21,
     "metadata": {},
     "output_type": "execute_result"
    }
   ],
   "source": [
    "Infilteration_Clean.iloc[  19014 , : ]"
   ]
  },
  {
   "cell_type": "code",
   "execution_count": 67,
   "metadata": {
    "collapsed": true
   },
   "outputs": [
    {
     "data": {
      "text/html": [
       "<div>\n",
       "<style scoped>\n",
       "    .dataframe tbody tr th:only-of-type {\n",
       "        vertical-align: middle;\n",
       "    }\n",
       "\n",
       "    .dataframe tbody tr th {\n",
       "        vertical-align: top;\n",
       "    }\n",
       "\n",
       "    .dataframe thead th {\n",
       "        text-align: right;\n",
       "    }\n",
       "</style>\n",
       "<table border=\"1\" class=\"dataframe\">\n",
       "  <thead>\n",
       "    <tr style=\"text-align: right;\">\n",
       "      <th></th>\n",
       "      <th>Dst Port</th>\n",
       "      <th>Protocol</th>\n",
       "      <th>Flow Duration</th>\n",
       "      <th>Tot Fwd Pkts</th>\n",
       "      <th>Tot Bwd Pkts</th>\n",
       "      <th>TotLen Fwd Pkts</th>\n",
       "      <th>TotLen Bwd Pkts</th>\n",
       "      <th>Fwd Pkt Len Max</th>\n",
       "      <th>Fwd Pkt Len Min</th>\n",
       "      <th>Fwd Pkt Len Mean</th>\n",
       "      <th>...</th>\n",
       "      <th>Fwd Seg Size Min</th>\n",
       "      <th>Active Mean</th>\n",
       "      <th>Active Std</th>\n",
       "      <th>Active Max</th>\n",
       "      <th>Active Min</th>\n",
       "      <th>Idle Mean</th>\n",
       "      <th>Idle Std</th>\n",
       "      <th>Idle Max</th>\n",
       "      <th>Idle Min</th>\n",
       "      <th>Label</th>\n",
       "    </tr>\n",
       "  </thead>\n",
       "  <tbody>\n",
       "  </tbody>\n",
       "</table>\n",
       "<p>0 rows × 79 columns</p>\n",
       "</div>"
      ],
      "text/plain": [
       "Empty DataFrame\n",
       "Columns: [Dst Port, Protocol, Flow Duration, Tot Fwd Pkts, Tot Bwd Pkts, TotLen Fwd Pkts, TotLen Bwd Pkts, Fwd Pkt Len Max, Fwd Pkt Len Min, Fwd Pkt Len Mean, Fwd Pkt Len Std, Bwd Pkt Len Max, Bwd Pkt Len Min, Bwd Pkt Len Mean, Bwd Pkt Len Std, Flow Byts/s, Flow Pkts/s, Flow IAT Mean, Flow IAT Std, Flow IAT Max, Flow IAT Min, Fwd IAT Tot, Fwd IAT Mean, Fwd IAT Std, Fwd IAT Max, Fwd IAT Min, Bwd IAT Tot, Bwd IAT Mean, Bwd IAT Std, Bwd IAT Max, Bwd IAT Min, Fwd PSH Flags, Bwd PSH Flags, Fwd URG Flags, Bwd URG Flags, Fwd Header Len, Bwd Header Len, Fwd Pkts/s, Bwd Pkts/s, Pkt Len Min, Pkt Len Max, Pkt Len Mean, Pkt Len Std, Pkt Len Var, FIN Flag Cnt, SYN Flag Cnt, RST Flag Cnt, PSH Flag Cnt, ACK Flag Cnt, URG Flag Cnt, CWE Flag Count, ECE Flag Cnt, Down/Up Ratio, Pkt Size Avg, Fwd Seg Size Avg, Bwd Seg Size Avg, Fwd Byts/b Avg, Fwd Pkts/b Avg, Fwd Blk Rate Avg, Bwd Byts/b Avg, Bwd Pkts/b Avg, Bwd Blk Rate Avg, Subflow Fwd Pkts, Subflow Fwd Byts, Subflow Bwd Pkts, Subflow Bwd Byts, Init Fwd Win Byts, Init Bwd Win Byts, Fwd Act Data Pkts, Fwd Seg Size Min, Active Mean, Active Std, Active Max, Active Min, Idle Mean, Idle Std, Idle Max, Idle Min, Label]\n",
       "Index: []\n",
       "\n",
       "[0 rows x 79 columns]"
      ]
     },
     "execution_count": 67,
     "metadata": {},
     "output_type": "execute_result"
    }
   ],
   "source": [
    "NewBot[~NewBot.applymap(np.isreal).all(1)]"
   ]
  },
  {
   "cell_type": "code",
   "execution_count": null,
   "metadata": {},
   "outputs": [],
   "source": []
  },
  {
   "cell_type": "code",
   "execution_count": null,
   "metadata": {},
   "outputs": [],
   "source": []
  },
  {
   "cell_type": "code",
   "execution_count": null,
   "metadata": {},
   "outputs": [],
   "source": []
  },
  {
   "cell_type": "code",
   "execution_count": null,
   "metadata": {},
   "outputs": [],
   "source": []
  }
 ],
 "metadata": {
  "kernelspec": {
   "display_name": "Python 3",
   "language": "python",
   "name": "python3"
  },
  "language_info": {
   "codemirror_mode": {
    "name": "ipython",
    "version": 3
   },
   "file_extension": ".py",
   "mimetype": "text/x-python",
   "name": "python",
   "nbconvert_exporter": "python",
   "pygments_lexer": "ipython3",
   "version": "3.6.5"
  },
  "toc": {
   "base_numbering": 1,
   "nav_menu": {},
   "number_sections": true,
   "sideBar": true,
   "skip_h1_title": false,
   "title_cell": "Table of Contents",
   "title_sidebar": "Contents",
   "toc_cell": false,
   "toc_position": {
    "height": "calc(100% - 180px)",
    "left": "10px",
    "top": "150px",
    "width": "300px"
   },
   "toc_section_display": true,
   "toc_window_display": true
  }
 },
 "nbformat": 4,
 "nbformat_minor": 2
}
