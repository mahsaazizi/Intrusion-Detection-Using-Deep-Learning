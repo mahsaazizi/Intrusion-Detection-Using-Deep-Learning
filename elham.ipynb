{
 "cells": [
  {
   "cell_type": "code",
   "execution_count": 1,
   "metadata": {
    "collapsed": true
   },
   "outputs": [],
   "source": [
    "import pandas as pd\n",
    "import matplotlib.pyplot as plt\n",
    "import seaborn as sns\n",
    "import glob\n",
    "import numpy as np\n",
    "from scipy.stats import pearsonr, spearmanr "
   ]
  },
  {
   "cell_type": "code",
   "execution_count": null,
   "metadata": {
    "collapsed": true
   },
   "outputs": [],
   "source": [
    "Path = 'D:/TADA/MachineLearningCSV2018'\n",
    "All = pd.DataFrame()\n",
    "for f in glob.glob(Path +\"\\\\*.csv\"):\n",
    "    df = pd.read_csv(f, dtype='unicode')\n",
    "    print('df Shape:', df.shape)\n",
    "    print(df['Label'].value_counts())\n",
    "\n",
    "    print(100*'*')"
   ]
  }
 ],
 "metadata": {
  "kernelspec": {
   "display_name": "Python 3",
   "language": "python",
   "name": "python3"
  },
  "language_info": {
   "codemirror_mode": {
    "name": "ipython",
    "version": 3
   },
   "file_extension": ".py",
   "mimetype": "text/x-python",
   "name": "python",
   "nbconvert_exporter": "python",
   "pygments_lexer": "ipython3",
   "version": "3.6.3"
  }
 },
 "nbformat": 4,
 "nbformat_minor": 2
}
